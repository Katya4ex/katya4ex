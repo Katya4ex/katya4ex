{
 "cells": [
  {
   "cell_type": "markdown",
   "metadata": {},
   "source": [
    "# Анализ предложений по аренде помещений в торговых центрах"
   ]
  },
  {
   "cell_type": "markdown",
   "metadata": {},
   "source": [
    "<b>Выборка</b>: предложения по аренде помещений, расположенных в торговых центрах в  Санкт-Петербурге за первое полугодие 2020г."
   ]
  },
  {
   "cell_type": "code",
   "execution_count": 30,
   "metadata": {},
   "outputs": [],
   "source": [
    "# импорт пакетов\n",
    "import os\n",
    "\n",
    "import pandas as pd\n",
    "import geopandas as gpd\n",
    "import numpy as np\n",
    "import datetime\n",
    "import matplotlib\n",
    "import matplotlib.pyplot as plt\n"
   ]
  },
  {
   "cell_type": "code",
   "execution_count": 31,
   "metadata": {},
   "outputs": [],
   "source": [
    "# форматы для отображения данных\n",
    "%matplotlib inline\n",
    "matplotlib.rcParams['figure.figsize'] = (12,8)\n",
    "plt.style.use('ggplot')\n",
    "pd.options.mode.chained_assignment = None\n",
    "pd.options.display.float_format = '{:.0f}'.format"
   ]
  },
  {
   "cell_type": "markdown",
   "metadata": {},
   "source": [
    "### Чтение данных"
   ]
  },
  {
   "cell_type": "code",
   "execution_count": 32,
   "metadata": {},
   "outputs": [],
   "source": [
    "# путь для чтения файла\n",
    "current_dir = os.getcwd()\n",
    "dir_name = os.path.dirname(current_dir)\n",
    "file_name = os.path.join(dir_name, 'db', 'spb_com_rent.xlsx')"
   ]
  },
  {
   "cell_type": "code",
   "execution_count": 33,
   "metadata": {},
   "outputs": [],
   "source": [
    "# чтение таблицы с данными о предложениях по аренде \n",
    "data = pd.read_excel(file_name)"
   ]
  },
  {
   "cell_type": "code",
   "execution_count": 34,
   "metadata": {},
   "outputs": [],
   "source": [
    "# чтение таблицы с геоданными о границах районов города Санкт-Петербурга\n",
    "spb_geojson = gpd.read_file(os.path.join(dir_name, 'data_download', 'borders', 'osm-boundaries', 'lev3_regions', 'fe90c97f69f82c3390dbc67d1cfedf6c.geojson'))"
   ]
  },
  {
   "cell_type": "markdown",
   "metadata": {},
   "source": [
    "делаем выборку по наименованию субъекта, типу предложения, типу объекта"
   ]
  },
  {
   "cell_type": "code",
   "execution_count": 35,
   "metadata": {},
   "outputs": [],
   "source": [
    "data = data[data['subject'] == 'Санкт-Петербург']\n",
    "data = data[(data['type'] == 'Магазин') | (data['type'] == 'Коммерческая недвижимость')]\n",
    "data = data[data['type_object_list'] == 'торговый центр']"
   ]
  },
  {
   "cell_type": "markdown",
   "metadata": {},
   "source": [
    "исходные данные содержат основные ценообразующие характеристики предложения: адрес, цена, площадь. А также описание и дату размещения предложения в источнике."
   ]
  },
  {
   "cell_type": "markdown",
   "metadata": {},
   "source": [
    "геокодируем через API Яндекс Карт. Получим также: координаты, полный адрес (субъект, населенный пункт, улица, дом), уровень и точность привязки"
   ]
  },
  {
   "cell_type": "markdown",
   "metadata": {},
   "source": [
    "заполним Район и Округ для группировки данных по территориям, также заполним Тип объекта по адресу."
   ]
  },
  {
   "cell_type": "code",
   "execution_count": 36,
   "metadata": {},
   "outputs": [],
   "source": [
    "# выборка только заполненных по полю Регион\n",
    "data = data[pd.notnull(data['region'])]"
   ]
  },
  {
   "cell_type": "code",
   "execution_count": 37,
   "metadata": {},
   "outputs": [],
   "source": [
    "# оставим столбцы с данными, которые понадобятся в расчетах\n",
    "data = data[['address', 'subject', 'region',\n",
    "       'price', 'area', 'comment',\n",
    "       'data_position', 'data_control',\n",
    "    ]]"
   ]
  },
  {
   "cell_type": "markdown",
   "metadata": {},
   "source": [
    "добавим расчетное поле с ценой за кв.м."
   ]
  },
  {
   "cell_type": "code",
   "execution_count": 38,
   "metadata": {},
   "outputs": [],
   "source": [
    "data['price_m2'] = data['price']/data['area']"
   ]
  },
  {
   "cell_type": "markdown",
   "metadata": {},
   "source": [
    "добавим расчетное поле со сроком экспозиции в днях"
   ]
  },
  {
   "cell_type": "code",
   "execution_count": 39,
   "metadata": {},
   "outputs": [],
   "source": [
    "# преобразуем поля с датами в соответствующий формат datetime\n",
    "data['data_position'] = pd.to_datetime(data.data_position)\n",
    "data['data_control'] = pd.to_datetime(data.data_control)"
   ]
  },
  {
   "cell_type": "code",
   "execution_count": 40,
   "metadata": {},
   "outputs": [],
   "source": [
    "# заполним пустые значения в поле с контрольной датой проверки значением по умолчанию 01.01.1900\n",
    "date = datetime.date(1990, 1, 1)\n",
    "data['data_control'] = data['data_control'].apply(lambda x : date if x is pd.NaT else x)"
   ]
  },
  {
   "cell_type": "code",
   "execution_count": 41,
   "metadata": {},
   "outputs": [],
   "source": [
    "# посчитаем количество дней размещения предложения как разницу между датой снятия с показа и датой размещения прдложения об аренде\n",
    "data['period_expos_day'] = data['data_control'] - data['data_position']"
   ]
  },
  {
   "cell_type": "code",
   "execution_count": 42,
   "metadata": {},
   "outputs": [],
   "source": [
    "data.loc[data['data_control'] != '2020-09-25', 'period_expos_day'] = pd.NaT "
   ]
  },
  {
   "cell_type": "markdown",
   "metadata": {},
   "source": [
    "### Статистика полученных данных"
   ]
  },
  {
   "cell_type": "code",
   "execution_count": 43,
   "metadata": {},
   "outputs": [
    {
     "data": {
      "text/plain": [
       "(1226, 10)"
      ]
     },
     "execution_count": 43,
     "metadata": {},
     "output_type": "execute_result"
    }
   ],
   "source": [
    "# размер выборки (строк, столбцов)\n",
    "data.shape"
   ]
  },
  {
   "cell_type": "code",
   "execution_count": 44,
   "metadata": {},
   "outputs": [
    {
     "data": {
      "text/html": [
       "<div>\n",
       "<style scoped>\n",
       "    .dataframe tbody tr th:only-of-type {\n",
       "        vertical-align: middle;\n",
       "    }\n",
       "\n",
       "    .dataframe tbody tr th {\n",
       "        vertical-align: top;\n",
       "    }\n",
       "\n",
       "    .dataframe thead th {\n",
       "        text-align: right;\n",
       "    }\n",
       "</style>\n",
       "<table border=\"1\" class=\"dataframe\">\n",
       "  <thead>\n",
       "    <tr style=\"text-align: right;\">\n",
       "      <th></th>\n",
       "      <th>price</th>\n",
       "      <th>area</th>\n",
       "      <th>price_m2</th>\n",
       "    </tr>\n",
       "  </thead>\n",
       "  <tbody>\n",
       "    <tr>\n",
       "      <th>count</th>\n",
       "      <td>1226</td>\n",
       "      <td>1226</td>\n",
       "      <td>1226</td>\n",
       "    </tr>\n",
       "    <tr>\n",
       "      <th>mean</th>\n",
       "      <td>353417</td>\n",
       "      <td>250</td>\n",
       "      <td>2578</td>\n",
       "    </tr>\n",
       "    <tr>\n",
       "      <th>std</th>\n",
       "      <td>1158103</td>\n",
       "      <td>493</td>\n",
       "      <td>14120</td>\n",
       "    </tr>\n",
       "    <tr>\n",
       "      <th>min</th>\n",
       "      <td>2200</td>\n",
       "      <td>4</td>\n",
       "      <td>9</td>\n",
       "    </tr>\n",
       "    <tr>\n",
       "      <th>25%</th>\n",
       "      <td>43050</td>\n",
       "      <td>28</td>\n",
       "      <td>1000</td>\n",
       "    </tr>\n",
       "    <tr>\n",
       "      <th>50%</th>\n",
       "      <td>117000</td>\n",
       "      <td>75</td>\n",
       "      <td>1440</td>\n",
       "    </tr>\n",
       "    <tr>\n",
       "      <th>75%</th>\n",
       "      <td>329500</td>\n",
       "      <td>243</td>\n",
       "      <td>2143</td>\n",
       "    </tr>\n",
       "    <tr>\n",
       "      <th>max</th>\n",
       "      <td>26730000</td>\n",
       "      <td>4600</td>\n",
       "      <td>385800</td>\n",
       "    </tr>\n",
       "  </tbody>\n",
       "</table>\n",
       "</div>"
      ],
      "text/plain": [
       "         price  area  price_m2\n",
       "count     1226  1226      1226\n",
       "mean    353417   250      2578\n",
       "std    1158103   493     14120\n",
       "min       2200     4         9\n",
       "25%      43050    28      1000\n",
       "50%     117000    75      1440\n",
       "75%     329500   243      2143\n",
       "max   26730000  4600    385800"
      ]
     },
     "execution_count": 44,
     "metadata": {},
     "output_type": "execute_result"
    }
   ],
   "source": [
    "# статистика по числовым признакам\n",
    "data.describe()[['price','area','price_m2']]"
   ]
  },
  {
   "cell_type": "code",
   "execution_count": 45,
   "metadata": {},
   "outputs": [
    {
     "data": {
      "text/html": [
       "<div>\n",
       "<style scoped>\n",
       "    .dataframe tbody tr th:only-of-type {\n",
       "        vertical-align: middle;\n",
       "    }\n",
       "\n",
       "    .dataframe tbody tr th {\n",
       "        vertical-align: top;\n",
       "    }\n",
       "\n",
       "    .dataframe thead th {\n",
       "        text-align: right;\n",
       "    }\n",
       "</style>\n",
       "<table border=\"1\" class=\"dataframe\">\n",
       "  <thead>\n",
       "    <tr style=\"text-align: right;\">\n",
       "      <th></th>\n",
       "      <th>address</th>\n",
       "      <th>subject</th>\n",
       "      <th>region</th>\n",
       "    </tr>\n",
       "  </thead>\n",
       "  <tbody>\n",
       "    <tr>\n",
       "      <th>count</th>\n",
       "      <td>1226</td>\n",
       "      <td>1226</td>\n",
       "      <td>1226</td>\n",
       "    </tr>\n",
       "    <tr>\n",
       "      <th>unique</th>\n",
       "      <td>393</td>\n",
       "      <td>1</td>\n",
       "      <td>18</td>\n",
       "    </tr>\n",
       "    <tr>\n",
       "      <th>top</th>\n",
       "      <td>Санкт-Петербург, Думская улица, 4</td>\n",
       "      <td>Санкт-Петербург</td>\n",
       "      <td>Приморский район</td>\n",
       "    </tr>\n",
       "    <tr>\n",
       "      <th>freq</th>\n",
       "      <td>36</td>\n",
       "      <td>1226</td>\n",
       "      <td>186</td>\n",
       "    </tr>\n",
       "  </tbody>\n",
       "</table>\n",
       "</div>"
      ],
      "text/plain": [
       "                                  address          subject            region\n",
       "count                                1226             1226              1226\n",
       "unique                                393                1                18\n",
       "top     Санкт-Петербург, Думская улица, 4  Санкт-Петербург  Приморский район\n",
       "freq                                   36             1226               186"
      ]
     },
     "execution_count": 45,
     "metadata": {},
     "output_type": "execute_result"
    }
   ],
   "source": [
    "# статистика по категориальным признакам\n",
    "data.describe(include='object')[['address','subject','region']]"
   ]
  },
  {
   "cell_type": "markdown",
   "metadata": {},
   "source": [
    "## Проверка даннных и поиск выбросов"
   ]
  },
  {
   "cell_type": "markdown",
   "metadata": {},
   "source": [
    "#### Коробчатая диаграмма (ящик с усами, box plot)"
   ]
  },
  {
   "cell_type": "code",
   "execution_count": 46,
   "metadata": {},
   "outputs": [
    {
     "data": {
      "text/plain": [
       "<AxesSubplot:>"
      ]
     },
     "execution_count": 46,
     "metadata": {},
     "output_type": "execute_result"
    },
    {
     "data": {
      "image/png": "[encoded data removed]",
      "text/plain": [
       "<Figure size 864x576 with 1 Axes>"
      ]
     },
     "metadata": {},
     "output_type": "display_data"
    }
   ],
   "source": [
    "data.boxplot(column=['price_m2'])"
   ]
  },
  {
   "cell_type": "markdown",
   "metadata": {},
   "source": [
    "по графику видно, что данные сильно \"загрязнены\", т.к. являются источником информации, указанной самими продавцами и могут содержать разного рода ошибки. В частности самый дорогой объект имеет цену 385000 за квадратный метр в месяц, что скорее всего является общей ценой за все помещение."
   ]
  },
  {
   "cell_type": "markdown",
   "metadata": {},
   "source": [
    " \n",
    "Для данного категории предложений характерны следующие виды выбросов:  \n",
    "* ошибки в единицах измерений. По цене и/или площади, а также некорректный период, за который указана цена (год, месяц)\n",
    "* дубли\n",
    "* некорректная сегментация по типу объекта. Помещение расположено вблизи торгового центра, либо некоррекно указан адрес по принципу указания на близлежащий крупный объект\n",
    "* некорректная сегментация по типу помещения (сдается часть, место в отделе и т.п.)\n",
    "* некорректная сегментация по назначению и виду использования. Например, помещение классифицируют, как универсальное, тогда как в описании указано, что оно подходит только под услуги, либо является складским/производственным\n",
    "* одно предложение содержит в себе несколько. Т.е. цена и площадь указаны номинально, а в описании расписаны возможные варианты для аренды разных помещений\n",
    "* помещения сдаются в субаренду\n",
    "* помещения с улучшениями (оборудованием, витринами и т.п.)"
   ]
  },
  {
   "cell_type": "markdown",
   "metadata": {},
   "source": [
    "## Очистка данных"
   ]
  },
  {
   "cell_type": "markdown",
   "metadata": {},
   "source": [
    "проверяем указанные в столбцах признаки (Тип объекта, Площадь, Цена) по описанию объекта в разрезе территорий по Районам города. Информацию о несоответсвии критериям выборки заносим в комментарий и исключаем неподходящие объекты по этому признаку."
   ]
  },
  {
   "cell_type": "code",
   "execution_count": 47,
   "metadata": {},
   "outputs": [
    {
     "data": {
      "text/plain": [
       "(1054, 10)"
      ]
     },
     "execution_count": 47,
     "metadata": {},
     "output_type": "execute_result"
    }
   ],
   "source": [
    "data = data[pd.isnull(data['comment'])]\n",
    "data.shape"
   ]
  },
  {
   "cell_type": "markdown",
   "metadata": {},
   "source": [
    "В итоге отброшено 14% от исходной выборки. Это достаточно большое количество, т.к. исходные данные изначально были сильно \"загрязнены\"."
   ]
  },
  {
   "cell_type": "code",
   "execution_count": 48,
   "metadata": {},
   "outputs": [
    {
     "data": {
      "text/html": [
       "<div>\n",
       "<style scoped>\n",
       "    .dataframe tbody tr th:only-of-type {\n",
       "        vertical-align: middle;\n",
       "    }\n",
       "\n",
       "    .dataframe tbody tr th {\n",
       "        vertical-align: top;\n",
       "    }\n",
       "\n",
       "    .dataframe thead th {\n",
       "        text-align: right;\n",
       "    }\n",
       "</style>\n",
       "<table border=\"1\" class=\"dataframe\">\n",
       "  <thead>\n",
       "    <tr style=\"text-align: right;\">\n",
       "      <th></th>\n",
       "      <th>price</th>\n",
       "      <th>area</th>\n",
       "      <th>price_m2</th>\n",
       "    </tr>\n",
       "  </thead>\n",
       "  <tbody>\n",
       "    <tr>\n",
       "      <th>count</th>\n",
       "      <td>1054</td>\n",
       "      <td>1054</td>\n",
       "      <td>1054</td>\n",
       "    </tr>\n",
       "    <tr>\n",
       "      <th>mean</th>\n",
       "      <td>324022</td>\n",
       "      <td>256</td>\n",
       "      <td>1710</td>\n",
       "    </tr>\n",
       "    <tr>\n",
       "      <th>std</th>\n",
       "      <td>531207</td>\n",
       "      <td>485</td>\n",
       "      <td>1119</td>\n",
       "    </tr>\n",
       "    <tr>\n",
       "      <th>min</th>\n",
       "      <td>5000</td>\n",
       "      <td>4</td>\n",
       "      <td>190</td>\n",
       "    </tr>\n",
       "    <tr>\n",
       "      <th>25%</th>\n",
       "      <td>50000</td>\n",
       "      <td>33</td>\n",
       "      <td>1000</td>\n",
       "    </tr>\n",
       "    <tr>\n",
       "      <th>50%</th>\n",
       "      <td>125680</td>\n",
       "      <td>83</td>\n",
       "      <td>1440</td>\n",
       "    </tr>\n",
       "    <tr>\n",
       "      <th>75%</th>\n",
       "      <td>357120</td>\n",
       "      <td>253</td>\n",
       "      <td>2000</td>\n",
       "    </tr>\n",
       "    <tr>\n",
       "      <th>max</th>\n",
       "      <td>4140000</td>\n",
       "      <td>4600</td>\n",
       "      <td>9483</td>\n",
       "    </tr>\n",
       "  </tbody>\n",
       "</table>\n",
       "</div>"
      ],
      "text/plain": [
       "        price  area  price_m2\n",
       "count    1054  1054      1054\n",
       "mean   324022   256      1710\n",
       "std    531207   485      1119\n",
       "min      5000     4       190\n",
       "25%     50000    33      1000\n",
       "50%    125680    83      1440\n",
       "75%    357120   253      2000\n",
       "max   4140000  4600      9483"
      ]
     },
     "execution_count": 48,
     "metadata": {},
     "output_type": "execute_result"
    }
   ],
   "source": [
    "#числовые статиситки\n",
    "data.describe()[['price','area','price_m2']]"
   ]
  },
  {
   "cell_type": "code",
   "execution_count": 49,
   "metadata": {},
   "outputs": [
    {
     "data": {
      "text/plain": [
       "<AxesSubplot:xlabel='price', ylabel='area'>"
      ]
     },
     "execution_count": 49,
     "metadata": {},
     "output_type": "execute_result"
    },
    {
     "data": {
      "image/png": "[encoded data removed]",
      "text/plain": [
       "<Figure size 864x576 with 1 Axes>"
      ]
     },
     "metadata": {},
     "output_type": "display_data"
    }
   ],
   "source": [
    "# построим диаграмму рассеяния по двум признакам (цена, площадь)\n",
    "data.plot(x='price', y='area', kind='scatter') "
   ]
  },
  {
   "cell_type": "code",
   "execution_count": 51,
   "metadata": {},
   "outputs": [
    {
     "data": {
      "text/plain": [
       "(array([  6.,  46.,  57., 109., 134., 133.,  67., 126.,  57.,  73.,  29.,\n",
       "         18.,  35.,  10.,  12.,  38.,  13.,  28.,   3.,   6.,  10.,   7.,\n",
       "          2.,   5.,   3.,  10.,   0.,   1.,   5.,   0.,   1.,   3.,   1.,\n",
       "          1.,   0.,   0.,   1.,   0.,   0.,   0.,   0.,   0.,   2.,   1.,\n",
       "          0.,   0.,   0.,   0.,   0.,   1.]),\n",
       " array([ 190.        ,  375.85517241,  561.71034483,  747.56551724,\n",
       "         933.42068966, 1119.27586207, 1305.13103448, 1490.9862069 ,\n",
       "        1676.84137931, 1862.69655172, 2048.55172414, 2234.40689655,\n",
       "        2420.26206897, 2606.11724138, 2791.97241379, 2977.82758621,\n",
       "        3163.68275862, 3349.53793103, 3535.39310345, 3721.24827586,\n",
       "        3907.10344828, 4092.95862069, 4278.8137931 , 4464.66896552,\n",
       "        4650.52413793, 4836.37931034, 5022.23448276, 5208.08965517,\n",
       "        5393.94482759, 5579.8       , 5765.65517241, 5951.51034483,\n",
       "        6137.36551724, 6323.22068966, 6509.07586207, 6694.93103448,\n",
       "        6880.7862069 , 7066.64137931, 7252.49655172, 7438.35172414,\n",
       "        7624.20689655, 7810.06206897, 7995.91724138, 8181.77241379,\n",
       "        8367.62758621, 8553.48275862, 8739.33793103, 8925.19310345,\n",
       "        9111.04827586, 9296.90344828, 9482.75862069]),\n",
       " <BarContainer object of 50 artists>)"
      ]
     },
     "execution_count": 51,
     "metadata": {},
     "output_type": "execute_result"
    },
    {
     "data": {
      "image/png": "[encoded data removed]",
      "text/plain": [
       "<Figure size 864x576 with 1 Axes>"
      ]
     },
     "metadata": {},
     "output_type": "display_data"
    }
   ],
   "source": [
    "# строим гистограмму распределения по цене за кв.м.\n",
    "plt.hist(data['price_m2'], bins=50)"
   ]
  },
  {
   "cell_type": "markdown",
   "metadata": {},
   "source": [
    "Цены предложений распределены неравномерно. 75% всех предложений попадают в диапазон до 2000 руб/м2/месяц. Тогда как самое дорогое в выборке с ценой 9483 руб/м2/мес."
   ]
  },
  {
   "cell_type": "markdown",
   "metadata": {},
   "source": [
    "Для дальнейшего исследования корректно использовать робастные статистики с целью соблюдения условия независимости влияния на результат смещений и выбросов."
   ]
  },
  {
   "cell_type": "markdown",
   "metadata": {},
   "source": [
    "## Исследуем цену по территориям"
   ]
  },
  {
   "cell_type": "code",
   "execution_count": 52,
   "metadata": {},
   "outputs": [],
   "source": [
    "# группируем данные по региону и создаем таблицу с основными статистиками по цене за квадратный метр\n",
    "df_region = data.groupby('region', as_index=False)['price_m2'].agg(['median', 'min' , 'max', 'count']).sort_values('median', ascending=False)\n",
    "df_region = df_region.to_csv('agr_region_type.csv')"
   ]
  },
  {
   "cell_type": "markdown",
   "metadata": {},
   "source": [
    "### Геокодирование"
   ]
  },
  {
   "cell_type": "code",
   "execution_count": 53,
   "metadata": {},
   "outputs": [],
   "source": [
    "# добавляем в таблицу с расчетами данные о границах районов города\n",
    "df_region = pd.read_csv('agr_region_type.csv')\n",
    "full_data = df_region.merge(spb_geojson[['geometry', 'local_name']], left_on='region', right_on='local_name', how='left')"
   ]
  },
  {
   "cell_type": "code",
   "execution_count": 54,
   "metadata": {},
   "outputs": [
    {
     "data": {
      "text/html": [
       "<div>\n",
       "<style scoped>\n",
       "    .dataframe tbody tr th:only-of-type {\n",
       "        vertical-align: middle;\n",
       "    }\n",
       "\n",
       "    .dataframe tbody tr th {\n",
       "        vertical-align: top;\n",
       "    }\n",
       "\n",
       "    .dataframe thead th {\n",
       "        text-align: right;\n",
       "    }\n",
       "</style>\n",
       "<table border=\"1\" class=\"dataframe\">\n",
       "  <thead>\n",
       "    <tr style=\"text-align: right;\">\n",
       "      <th></th>\n",
       "      <th>region</th>\n",
       "      <th>median</th>\n",
       "      <th>min</th>\n",
       "      <th>max</th>\n",
       "    </tr>\n",
       "  </thead>\n",
       "  <tbody>\n",
       "    <tr>\n",
       "      <th>0</th>\n",
       "      <td>Центральный район</td>\n",
       "      <td>2200</td>\n",
       "      <td>450</td>\n",
       "      <td>9483</td>\n",
       "    </tr>\n",
       "    <tr>\n",
       "      <th>1</th>\n",
       "      <td>Петроградский район</td>\n",
       "      <td>1925</td>\n",
       "      <td>500</td>\n",
       "      <td>4000</td>\n",
       "    </tr>\n",
       "    <tr>\n",
       "      <th>2</th>\n",
       "      <td>Петродворцовый район</td>\n",
       "      <td>1849</td>\n",
       "      <td>1275</td>\n",
       "      <td>2500</td>\n",
       "    </tr>\n",
       "    <tr>\n",
       "      <th>3</th>\n",
       "      <td>Василеостровский район</td>\n",
       "      <td>1800</td>\n",
       "      <td>700</td>\n",
       "      <td>7000</td>\n",
       "    </tr>\n",
       "    <tr>\n",
       "      <th>4</th>\n",
       "      <td>Калининский район</td>\n",
       "      <td>1776</td>\n",
       "      <td>400</td>\n",
       "      <td>5500</td>\n",
       "    </tr>\n",
       "    <tr>\n",
       "      <th>5</th>\n",
       "      <td>Адмиралтейский район</td>\n",
       "      <td>1700</td>\n",
       "      <td>900</td>\n",
       "      <td>2126</td>\n",
       "    </tr>\n",
       "    <tr>\n",
       "      <th>6</th>\n",
       "      <td>Красносельский район</td>\n",
       "      <td>1530</td>\n",
       "      <td>700</td>\n",
       "      <td>4000</td>\n",
       "    </tr>\n",
       "    <tr>\n",
       "      <th>7</th>\n",
       "      <td>Кировский район</td>\n",
       "      <td>1501</td>\n",
       "      <td>550</td>\n",
       "      <td>6500</td>\n",
       "    </tr>\n",
       "    <tr>\n",
       "      <th>8</th>\n",
       "      <td>Курортный район</td>\n",
       "      <td>1445</td>\n",
       "      <td>1445</td>\n",
       "      <td>1445</td>\n",
       "    </tr>\n",
       "    <tr>\n",
       "      <th>9</th>\n",
       "      <td>Выборгский район</td>\n",
       "      <td>1400</td>\n",
       "      <td>243</td>\n",
       "      <td>5882</td>\n",
       "    </tr>\n",
       "    <tr>\n",
       "      <th>10</th>\n",
       "      <td>Московский район</td>\n",
       "      <td>1380</td>\n",
       "      <td>400</td>\n",
       "      <td>8333</td>\n",
       "    </tr>\n",
       "    <tr>\n",
       "      <th>11</th>\n",
       "      <td>Красногвардейский район</td>\n",
       "      <td>1300</td>\n",
       "      <td>500</td>\n",
       "      <td>3235</td>\n",
       "    </tr>\n",
       "    <tr>\n",
       "      <th>12</th>\n",
       "      <td>Невский район</td>\n",
       "      <td>1300</td>\n",
       "      <td>500</td>\n",
       "      <td>5000</td>\n",
       "    </tr>\n",
       "    <tr>\n",
       "      <th>13</th>\n",
       "      <td>Приморский район</td>\n",
       "      <td>1200</td>\n",
       "      <td>300</td>\n",
       "      <td>6000</td>\n",
       "    </tr>\n",
       "    <tr>\n",
       "      <th>14</th>\n",
       "      <td>Фрунзенский район</td>\n",
       "      <td>1200</td>\n",
       "      <td>391</td>\n",
       "      <td>5000</td>\n",
       "    </tr>\n",
       "    <tr>\n",
       "      <th>15</th>\n",
       "      <td>Пушкинский район</td>\n",
       "      <td>882</td>\n",
       "      <td>190</td>\n",
       "      <td>2189</td>\n",
       "    </tr>\n",
       "    <tr>\n",
       "      <th>16</th>\n",
       "      <td>Колпинский район</td>\n",
       "      <td>765</td>\n",
       "      <td>400</td>\n",
       "      <td>3000</td>\n",
       "    </tr>\n",
       "    <tr>\n",
       "      <th>17</th>\n",
       "      <td>Кронштадтский район</td>\n",
       "      <td>577</td>\n",
       "      <td>500</td>\n",
       "      <td>900</td>\n",
       "    </tr>\n",
       "  </tbody>\n",
       "</table>\n",
       "</div>"
      ],
      "text/plain": [
       "                     region  median  min  max\n",
       "0         Центральный район    2200  450 9483\n",
       "1       Петроградский район    1925  500 4000\n",
       "2      Петродворцовый район    1849 1275 2500\n",
       "3    Василеостровский район    1800  700 7000\n",
       "4         Калининский район    1776  400 5500\n",
       "5      Адмиралтейский район    1700  900 2126\n",
       "6      Красносельский район    1530  700 4000\n",
       "7           Кировский район    1501  550 6500\n",
       "8           Курортный район    1445 1445 1445\n",
       "9          Выборгский район    1400  243 5882\n",
       "10         Московский район    1380  400 8333\n",
       "11  Красногвардейский район    1300  500 3235\n",
       "12            Невский район    1300  500 5000\n",
       "13         Приморский район    1200  300 6000\n",
       "14        Фрунзенский район    1200  391 5000\n",
       "15         Пушкинский район     882  190 2189\n",
       "16         Колпинский район     765  400 3000\n",
       "17      Кронштадтский район     577  500  900"
      ]
     },
     "execution_count": 54,
     "metadata": {},
     "output_type": "execute_result"
    }
   ],
   "source": [
    "# распределение диапазонов цен в Санкт-Петербурге по районам\n",
    "full_data[['region', 'median', 'min', 'max']]"
   ]
  },
  {
   "cell_type": "code",
   "execution_count": 55,
   "metadata": {},
   "outputs": [
    {
     "data": {
      "text/plain": [
       "<AxesSubplot:>"
      ]
     },
     "execution_count": 55,
     "metadata": {},
     "output_type": "execute_result"
    },
    {
     "data": {
      "image/png": "[encoded data removed]",
      "text/plain": [
       "<Figure size 1080x1080 with 2 Axes>"
      ]
     },
     "metadata": {},
     "output_type": "display_data"
    }
   ],
   "source": [
    "# строим карту распределение средних цен по районам\n",
    "full_data = gpd.GeoDataFrame(full_data)\n",
    "full_data.plot(column = 'median', linewidth=0, cmap='GnBu', legend=True, figsize=[15,15])"
   ]
  },
  {
   "cell_type": "markdown",
   "metadata": {},
   "source": [
    "### Срок экспозиции"
   ]
  },
  {
   "cell_type": "markdown",
   "metadata": {},
   "source": [
    "расчитываем срок экспозиции для части предолжений: с даты публикации до даты снятия объявления с размещения."
   ]
  },
  {
   "cell_type": "code",
   "execution_count": 57,
   "metadata": {},
   "outputs": [
    {
     "data": {
      "text/plain": [
       "(398, 10)"
      ]
     },
     "execution_count": 57,
     "metadata": {},
     "output_type": "execute_result"
    }
   ],
   "source": [
    "data_expos = data[pd.notnull(data['period_expos_day'])]\n",
    "data_expos.shape"
   ]
  },
  {
   "cell_type": "markdown",
   "metadata": {},
   "source": [
    "в выборку попали 398 предложений"
   ]
  },
  {
   "cell_type": "markdown",
   "metadata": {},
   "source": [
    "Расчитаем срок экспозиции по трем периодам:   \n",
    "   - до 6 мес.  \n",
    "   - от 6 мес. до 1 года  \n",
    "   - от 1 года"
   ]
  },
  {
   "cell_type": "code",
   "execution_count": 58,
   "metadata": {},
   "outputs": [],
   "source": [
    "# функция для категоризации\n",
    "def expos_distance(dis):\n",
    "    if dis < pd.Timedelta('180 days'):\n",
    "        return 'до 6 мес'\n",
    "    elif dis < pd.Timedelta('365 days') and dis >= pd.Timedelta('180 days'):\n",
    "        return 'от 6 мес до 1 года'\n",
    "    elif dis >= pd.Timedelta('365 days'):\n",
    "        return 'от 1 года'"
   ]
  },
  {
   "cell_type": "code",
   "execution_count": 59,
   "metadata": {},
   "outputs": [],
   "source": [
    "# категоризация\n",
    "data['expos_category'] = data['period_expos_day'].apply(expos_distance)"
   ]
  },
  {
   "cell_type": "code",
   "execution_count": 60,
   "metadata": {},
   "outputs": [
    {
     "data": {
      "text/html": [
       "<div>\n",
       "<style scoped>\n",
       "    .dataframe tbody tr th:only-of-type {\n",
       "        vertical-align: middle;\n",
       "    }\n",
       "\n",
       "    .dataframe tbody tr th {\n",
       "        vertical-align: top;\n",
       "    }\n",
       "\n",
       "    .dataframe thead th {\n",
       "        text-align: right;\n",
       "    }\n",
       "</style>\n",
       "<table border=\"1\" class=\"dataframe\">\n",
       "  <thead>\n",
       "    <tr style=\"text-align: right;\">\n",
       "      <th></th>\n",
       "      <th>median</th>\n",
       "      <th>min</th>\n",
       "      <th>max</th>\n",
       "      <th>count</th>\n",
       "    </tr>\n",
       "    <tr>\n",
       "      <th>expos_category</th>\n",
       "      <th></th>\n",
       "      <th></th>\n",
       "      <th></th>\n",
       "      <th></th>\n",
       "    </tr>\n",
       "  </thead>\n",
       "  <tbody>\n",
       "    <tr>\n",
       "      <th>до 6 мес</th>\n",
       "      <td>1325</td>\n",
       "      <td>243</td>\n",
       "      <td>5000</td>\n",
       "      <td>104</td>\n",
       "    </tr>\n",
       "    <tr>\n",
       "      <th>от 6 мес до 1 года</th>\n",
       "      <td>1680</td>\n",
       "      <td>190</td>\n",
       "      <td>7000</td>\n",
       "      <td>191</td>\n",
       "    </tr>\n",
       "    <tr>\n",
       "      <th>от 1 года</th>\n",
       "      <td>1500</td>\n",
       "      <td>450</td>\n",
       "      <td>9483</td>\n",
       "      <td>103</td>\n",
       "    </tr>\n",
       "  </tbody>\n",
       "</table>\n",
       "</div>"
      ],
      "text/plain": [
       "                    median  min  max  count\n",
       "expos_category                             \n",
       "до 6 мес              1325  243 5000    104\n",
       "от 6 мес до 1 года    1680  190 7000    191\n",
       "от 1 года             1500  450 9483    103"
      ]
     },
     "execution_count": 60,
     "metadata": {},
     "output_type": "execute_result"
    }
   ],
   "source": [
    "# цена за кв.м. в зависимости от срока экспозиции объекта (медиана, минимум, максимум, кол-во предложений)\n",
    "df_category_expos_price_m2 = data.groupby('expos_category')['price_m2'].agg(['median', 'min' , 'max', 'count']).sort_values('max')\n",
    "df_category_expos_price_m2"
   ]
  },
  {
   "cell_type": "code",
   "execution_count": 317,
   "metadata": {},
   "outputs": [
    {
     "name": "stdout",
     "output_type": "stream",
     "text": [
      "Средний срок экспозиции помещений в торговых центрах: 227 дня.\n"
     ]
    }
   ],
   "source": [
    "print('Средний срок экспозиции помещений в торговых центрах:', data['period_expos_day'].describe()['50%'].days, 'дня.')"
   ]
  },
  {
   "cell_type": "markdown",
   "metadata": {},
   "source": [
    "Половина объектов сдаются в срок от 6 месяцев до 1 года. Предложения со сроком экспозиции до 6 месяцев в среднем дешевле на 12%.  \n",
    "  "
   ]
  }
 ],
 "metadata": {
  "kernelspec": {
   "display_name": "Python 3",
   "language": "python",
   "name": "python3"
  },
  "language_info": {
   "codemirror_mode": {
    "name": "ipython",
    "version": 3
   },
   "file_extension": ".py",
   "mimetype": "text/x-python",
   "name": "python",
   "nbconvert_exporter": "python",
   "pygments_lexer": "ipython3",
   "version": "3.8.3"
  }
 },
 "nbformat": 4,
 "nbformat_minor": 4
}
