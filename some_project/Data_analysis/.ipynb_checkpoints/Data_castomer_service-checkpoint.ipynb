{
 "cells": [
  {
   "cell_type": "markdown",
   "metadata": {},
   "source": [
    "### Анализ данных центра клиентского сервиса\n"
   ]
  },
  {
   "cell_type": "markdown",
   "metadata": {},
   "source": [
    "Ссылка на презентацию <a href = 'https://docs.google.com/presentation/d/11dCj69Wc3oUSRkPt4fHNAUYgX0hweVmExgvZ2ened5M/edit?usp=sharing'>здесь</a>"
   ]
  },
  {
   "cell_type": "markdown",
   "metadata": {},
   "source": [
    "#### Цель\n"
   ]
  },
  {
   "cell_type": "markdown",
   "metadata": {},
   "source": [
    "* проанализировать лояльность пользователей\n",
    "\n",
    "* оценить возможный урон в недополученном количестве объявлений и пользователях\n",
    "\n",
    "* при необходимости скорректировать критерии работы службы поддержки\n"
   ]
  },
  {
   "cell_type": "markdown",
   "metadata": {},
   "source": [
    "#### Исходные данные\n"
   ]
  },
  {
   "cell_type": "markdown",
   "metadata": {},
   "source": [
    "<b>support_tickets</b> таблица обращений в службу поддержки    \n",
    "<b>users_evaluation_of_satisfaction</b> таблица с оценками пользователей их удовлетворенности после окончательного ответа сотрудника службы поддержки.  \n",
    "<b>new_items_by_support_users</b> таблица с подачами объявлений  \n"
   ]
  },
  {
   "cell_type": "markdown",
   "metadata": {},
   "source": [
    "#### Чтение данных"
   ]
  },
  {
   "cell_type": "code",
   "execution_count": 213,
   "metadata": {},
   "outputs": [],
   "source": [
    "import os\n",
    "import glob\n",
    "import numpy as np\n",
    "import pandas as pd\n",
    "import matplotlib\n",
    "import matplotlib.pyplot as plt\n",
    "from datetime import datetime, time"
   ]
  },
  {
   "cell_type": "code",
   "execution_count": 214,
   "metadata": {},
   "outputs": [],
   "source": [
    "#формат отображения данных\n",
    "matplotlib.rcParams['figure.figsize'] = (12,8)\n",
    "plt.style.use('ggplot')\n",
    "pd.options.display.max_rows = 150"
   ]
  },
  {
   "cell_type": "code",
   "execution_count": 215,
   "metadata": {},
   "outputs": [],
   "source": [
    "current_dir = os.getcwd()\n",
    "path = os.path.dirname(current_dir)\n",
    "filenames = glob.glob(os.path.join(path, 'task', \"*.csv\")) \n",
    "\n",
    "dfs = []\n",
    "for filename in filenames:\n",
    "    dfs.append(pd.read_csv(filename))\n",
    "#filenames"
   ]
  },
  {
   "cell_type": "code",
   "execution_count": 216,
   "metadata": {},
   "outputs": [],
   "source": [
    "sup_objects = dfs[0]\n",
    "sup_tickets = dfs[1]\n",
    "sup_evaluation = dfs[2]"
   ]
  },
  {
   "cell_type": "markdown",
   "metadata": {},
   "source": [
    "дополнительные столбцы и формат данных:"
   ]
  },
  {
   "cell_type": "code",
   "execution_count": 217,
   "metadata": {},
   "outputs": [],
   "source": [
    "# катекоризация подтем обращений: по объявлениям, по платным услугам\n",
    "list_item = ['Автоматическая загрузка объявлений',\n",
    "             'Блокировка или отклонение объявлений',\n",
    "             'Заблокированное объявление',\n",
    "             'Загрузка фото',\n",
    "             'Не вижу свое оплаченное объявление',\n",
    "             'Отклоненное объявление',\n",
    "             'Ошибка при редактировании объявления',\n",
    "             'Подача объявления',\n",
    "             'Редактирование объявления',\n",
    "             'Управление списками объявлений',\n",
    "            ]\n",
    "\n",
    "def tickets_item(item):\n",
    "    if item in list_item:\n",
    "        return 'ad'\n",
    "    \n",
    "sup_tickets['topic'] = sup_tickets['ticket_subcategory'].apply(tickets_item)"
   ]
  },
  {
   "cell_type": "code",
   "execution_count": 218,
   "metadata": {},
   "outputs": [],
   "source": [
    "# формат данных\n",
    "sup_objects['item_starttime'] = pd.to_datetime(sup_objects['item_starttime'])\n",
    "sup_objects['user_registration_time'] = pd.to_datetime(sup_objects['user_registration_time'])\n",
    "\n",
    "sup_tickets['activity_start_dt'] = pd.to_datetime(sup_tickets['activity_start_dt'])\n",
    "sup_tickets['fact_reaction_dt'] = pd.to_datetime(sup_tickets['fact_reaction_dt'])"
   ]
  },
  {
   "cell_type": "code",
   "execution_count": 219,
   "metadata": {},
   "outputs": [],
   "source": [
    "# доп.поле - время ответа на обращение\n",
    "sup_tickets['time_answer'] = sup_tickets['fact_reaction_dt'] - sup_tickets['activity_start_dt']"
   ]
  },
  {
   "cell_type": "code",
   "execution_count": 220,
   "metadata": {},
   "outputs": [
    {
     "name": "stdout",
     "output_type": "stream",
     "text": [
      "<class 'pandas.core.frame.DataFrame'>\n",
      "RangeIndex: 18559923 entries, 0 to 18559922\n",
      "Data columns (total 7 columns):\n",
      " #   Column                   Dtype         \n",
      "---  ------                   -----         \n",
      " 0   user_id                  object        \n",
      " 1   user_registration_time   datetime64[ns]\n",
      " 2   user_first_listing_date  object        \n",
      " 3   item_id                  object        \n",
      " 4   item_starttime           datetime64[ns]\n",
      " 5   item_category            object        \n",
      " 6   item_subcategory         object        \n",
      "dtypes: datetime64[ns](2), object(5)\n",
      "memory usage: 991.2+ MB\n"
     ]
    }
   ],
   "source": [
    "sup_objects.info()"
   ]
  },
  {
   "cell_type": "code",
   "execution_count": 221,
   "metadata": {},
   "outputs": [
    {
     "name": "stdout",
     "output_type": "stream",
     "text": [
      "<class 'pandas.core.frame.DataFrame'>\n",
      "RangeIndex: 397530 entries, 0 to 397529\n",
      "Data columns (total 9 columns):\n",
      " #   Column              Non-Null Count   Dtype          \n",
      "---  ------              --------------   -----          \n",
      " 0   user_id             397530 non-null  object         \n",
      " 1   ticket_category     397530 non-null  object         \n",
      " 2   ticket_subcategory  397530 non-null  object         \n",
      " 3   current_state       397530 non-null  object         \n",
      " 4   request_id          397530 non-null  object         \n",
      " 5   activity_start_dt   397530 non-null  datetime64[ns] \n",
      " 6   fact_reaction_dt    397530 non-null  datetime64[ns] \n",
      " 7   topic               160350 non-null  object         \n",
      " 8   time_answer         397530 non-null  timedelta64[ns]\n",
      "dtypes: datetime64[ns](2), object(6), timedelta64[ns](1)\n",
      "memory usage: 27.3+ MB\n"
     ]
    }
   ],
   "source": [
    "sup_tickets.info()"
   ]
  },
  {
   "cell_type": "code",
   "execution_count": 222,
   "metadata": {},
   "outputs": [
    {
     "name": "stdout",
     "output_type": "stream",
     "text": [
      "<class 'pandas.core.frame.DataFrame'>\n",
      "RangeIndex: 217533 entries, 0 to 217532\n",
      "Data columns (total 2 columns):\n",
      " #   Column                    Non-Null Count   Dtype \n",
      "---  ------                    --------------   ----- \n",
      " 0   request_id                217414 non-null  object\n",
      " 1   result_mentioned_by_user  217533 non-null  object\n",
      "dtypes: object(2)\n",
      "memory usage: 3.3+ MB\n"
     ]
    }
   ],
   "source": [
    "sup_evaluation.info()"
   ]
  },
  {
   "cell_type": "markdown",
   "metadata": {},
   "source": [
    "#### Oсновные показатели"
   ]
  },
  {
   "cell_type": "code",
   "execution_count": 223,
   "metadata": {},
   "outputs": [
    {
     "data": {
      "text/plain": [
       "18559923"
      ]
     },
     "execution_count": 223,
     "metadata": {},
     "output_type": "execute_result"
    }
   ],
   "source": [
    "# количество объявлений\n",
    "sup_objects['user_id'].count()"
   ]
  },
  {
   "cell_type": "code",
   "execution_count": 224,
   "metadata": {},
   "outputs": [
    {
     "data": {
      "text/plain": [
       "397530"
      ]
     },
     "execution_count": 224,
     "metadata": {},
     "output_type": "execute_result"
    }
   ],
   "source": [
    "# количество обращений\n",
    "sup_tickets.shape[0]"
   ]
  },
  {
   "cell_type": "code",
   "execution_count": 225,
   "metadata": {},
   "outputs": [
    {
     "data": {
      "text/plain": [
       "298957"
      ]
     },
     "execution_count": 225,
     "metadata": {},
     "output_type": "execute_result"
    }
   ],
   "source": [
    "# пользователей обратилось в службу поддержки\n",
    "sup_tickets.user_id.nunique()"
   ]
  },
  {
   "cell_type": "code",
   "execution_count": 226,
   "metadata": {},
   "outputs": [
    {
     "data": {
      "text/plain": [
       "107671"
      ]
     },
     "execution_count": 226,
     "metadata": {},
     "output_type": "execute_result"
    }
   ],
   "source": [
    "# количество пользователей, обратившихся по теме объявления\n",
    "sup_tickets[sup_tickets['topic']=='ad']['user_id'].nunique()"
   ]
  },
  {
   "cell_type": "code",
   "execution_count": 227,
   "metadata": {},
   "outputs": [
    {
     "data": {
      "text/plain": [
       "217533"
      ]
     },
     "execution_count": 227,
     "metadata": {},
     "output_type": "execute_result"
    }
   ],
   "source": [
    "sup_evaluation.result_mentioned_by_user.count()"
   ]
  },
  {
   "cell_type": "code",
   "execution_count": 228,
   "metadata": {},
   "outputs": [],
   "source": [
    "# время последней активности пользователя: размещения объявления, обращения в службу поддержки\n",
    "object_last = sup_objects.groupby('user_id')['item_starttime'].max().reset_index() # по объявлениям\n",
    "ticket_last = sup_tickets.groupby(['user_id'])['activity_start_dt'].max().reset_index() # по обращениям\n",
    "last = object_last.merge(ticket_last, left_on = 'user_id', right_on = 'user_id', how='left') "
   ]
  },
  {
   "cell_type": "code",
   "execution_count": 229,
   "metadata": {},
   "outputs": [],
   "source": [
    "# доп.столбец not_ad - пользователь не разместил НИ ОДНОГО объявления после последнего обращения\n",
    "last.loc[last['activity_start_dt'] > last['item_starttime'], 'not_ad'] = 0\n",
    "sup_tickets = sup_tickets.merge(last[['user_id', 'not_ad']], left_on = 'user_id', right_on = 'user_id', how='left')"
   ]
  },
  {
   "cell_type": "code",
   "execution_count": 230,
   "metadata": {},
   "outputs": [],
   "source": [
    "# доп.столбцы - дата подачи объявления и обращения, в месяцах\n",
    "sup_objects['item_starttime_month'] = sup_objects.item_starttime.apply(lambda x: str(x)[:7])\n",
    "sup_tickets['activity_start_dt_month'] = sup_tickets.activity_start_dt.apply(lambda x: str(x)[:7])"
   ]
  },
  {
   "cell_type": "code",
   "execution_count": 231,
   "metadata": {},
   "outputs": [],
   "source": [
    "sup_objects['item_starttime_month'] = pd.to_datetime(sup_objects['item_starttime_month'])"
   ]
  },
  {
   "cell_type": "code",
   "execution_count": 232,
   "metadata": {},
   "outputs": [
    {
     "data": {
      "text/plain": [
       "107671"
      ]
     },
     "execution_count": 232,
     "metadata": {},
     "output_type": "execute_result"
    }
   ],
   "source": [
    "# выборка\n",
    "sup_tickets_ad = sup_tickets[sup_tickets.topic == 'ad'] # обращений по теме объявления\n",
    "sup_tickets_ad_object = sup_tickets_ad[sup_tickets_ad.not_ad != 0] # разместили объявление после обращения\n",
    "sup_tickets_ad['user_id'].nunique() # пользователей обратилось по теме объявления"
   ]
  },
  {
   "cell_type": "code",
   "execution_count": 233,
   "metadata": {},
   "outputs": [
    {
     "data": {
      "text/plain": [
       "20490"
      ]
     },
     "execution_count": 233,
     "metadata": {},
     "output_type": "execute_result"
    }
   ],
   "source": [
    "# пользователи, обратившиеся по вопросу размещения объявления и не разместившие после ни одного\n",
    "sup_tickets_ad[sup_tickets_ad['not_ad'] == 0].user_id.nunique()\n"
   ]
  },
  {
   "cell_type": "markdown",
   "metadata": {},
   "source": [
    "#### Уровень активности клиентов\n",
    "Статистика по месяцам: сколько обратилось пользователей по теме объявлений, сколько разместили после обращения"
   ]
  },
  {
   "cell_type": "code",
   "execution_count": 234,
   "metadata": {},
   "outputs": [],
   "source": [
    "# группировка данных по времени обращения, в месяцах\n",
    "# по количеству пользователей, разместивших объявления\n",
    "count_object_month = sup_tickets_ad_object.groupby('activity_start_dt_month')['user_id'].nunique().reset_index()\n",
    "# по количеству пользователей, обратившихся по теме\n",
    "count_ticket_month = sup_tickets_ad.groupby('activity_start_dt_month')['user_id'].nunique().reset_index()"
   ]
  },
  {
   "cell_type": "code",
   "execution_count": 235,
   "metadata": {},
   "outputs": [],
   "source": [
    "count_object_month['activity_start_dt_month'] = pd.to_datetime(count_object_month['activity_start_dt_month'])\n",
    "count_ticket_month['activity_start_dt_month'] = pd.to_datetime(count_ticket_month['activity_start_dt_month'])"
   ]
  },
  {
   "cell_type": "code",
   "execution_count": 236,
   "metadata": {},
   "outputs": [],
   "source": [
    "count_month = count_object_month.merge(count_ticket_month, left_on = 'activity_start_dt_month', right_on = 'activity_start_dt_month', how = 'left' )"
   ]
  },
  {
   "cell_type": "code",
   "execution_count": 237,
   "metadata": {},
   "outputs": [],
   "source": [
    "count_month = count_month[(count_month['activity_start_dt_month'] >= '2015-09') & (count_month['activity_start_dt_month'] < '2016-01')]"
   ]
  },
  {
   "cell_type": "code",
   "execution_count": 238,
   "metadata": {},
   "outputs": [],
   "source": [
    "#формат данных\n",
    "count_month['activity_start_dt_month'] = count_month['activity_start_dt_month'].dt.strftime('%Y-%m')\n",
    "count_month['user_id_proc'] = round(count_month['user_id_x']/count_month['user_id_y']*100, 0)\n",
    "count_month = count_month.reset_index(drop=True)"
   ]
  },
  {
   "cell_type": "code",
   "execution_count": 240,
   "metadata": {},
   "outputs": [
    {
     "data": {
      "image/png": "[encoded data removed]",
      "text/plain": [
       "<Figure size 864x576 with 1 Axes>"
      ]
     },
     "metadata": {},
     "output_type": "display_data"
    }
   ],
   "source": [
    "plt.rcParams['font.size'] = '14'\n",
    "plt.rcParams['text.color'] = '#595959'\n",
    "plt.rcParams['font.sans-serif'] = 'Arial'\n",
    "width = 0.05\n",
    "plt.bar(count_month.activity_start_dt_month, count_month.user_id_y, color = '#e06666', label='общее кол-во обратившихся по теме объявлений пользователей')\n",
    "plt.bar(count_month.activity_start_dt_month, count_month.user_id_x, color = '#6aa84f', label='кол-во пользователей, разместивших объявления после обращения')\n",
    "\n",
    "plt.title('Доля продавцов, разместивших объявление после обращения', pad=20)\n",
    "plt.legend(bbox_to_anchor=(.8,-.1), facecolor='white', framealpha=1)\n",
    "\n",
    "for i, v in enumerate(range(4)):\n",
    "    plt.text(v-0.1, i+count_month.user_id_x[v]-2000, '{} %'.format(int(count_month.user_id_proc[v])), fontweight='bold')"
   ]
  },
  {
   "cell_type": "markdown",
   "metadata": {},
   "source": [
    "#### Оценки пользователей"
   ]
  },
  {
   "cell_type": "code",
   "execution_count": 241,
   "metadata": {},
   "outputs": [],
   "source": [
    "sup_tickets = sup_tickets.merge(sup_evaluation, left_on = 'request_id', right_on = 'request_id', how = 'left')"
   ]
  },
  {
   "cell_type": "code",
   "execution_count": 242,
   "metadata": {},
   "outputs": [],
   "source": [
    "sup_tickets.result_mentioned_by_user.replace(np.nan, 'Без оценки', inplace=True)"
   ]
  },
  {
   "cell_type": "code",
   "execution_count": 243,
   "metadata": {},
   "outputs": [
    {
     "name": "stdout",
     "output_type": "stream",
     "text": [
      "397530 277108 120422\n"
     ]
    }
   ],
   "source": [
    "# обращений всего, без оценки, с оценкой\n",
    "print (sup_tickets.request_id.nunique(), \n",
    "sup_tickets[sup_tickets['result_mentioned_by_user'] == 'Без оценки'].request_id.nunique(),    \n",
    "sup_tickets[sup_tickets['result_mentioned_by_user'] != 'Без оценки'].request_id.nunique(),\n",
    "      )"
   ]
  },
  {
   "cell_type": "code",
   "execution_count": 257,
   "metadata": {},
   "outputs": [],
   "source": [
    "# количество обращений с результатом \"неудовлетворительно\" от тех, кто не разместил объявление\n",
    "sup_tickets_not_ad_object = sup_tickets_ad[sup_tickets_ad['not_ad'] == 0]\n",
    "sup_tickets_not_ad_object = sup_tickets_not_ad_object.merge(sup_evaluation, left_on = 'request_id', right_on = 'request_id', how = 'left')\n",
    "sup_tickets_not_ad_object_neg = sup_tickets_not_ad_object.groupby('result_mentioned_by_user').request_id.nunique().reset_index()"
   ]
  },
  {
   "cell_type": "code",
   "execution_count": 261,
   "metadata": {},
   "outputs": [
    {
     "data": {
      "text/plain": [
       "(  result_mentioned_by_user  request_id\n",
       " 0     Не удовлетворительно        2053\n",
       " 1               Нейтрально         703\n",
       " 2                  Отлично        2953\n",
       " 3        Удовлетворительно         563\n",
       " 4                   Хорошо        1136,\n",
       " 7408)"
      ]
     },
     "execution_count": 261,
     "metadata": {},
     "output_type": "execute_result"
    }
   ],
   "source": [
    "sup_tickets_not_ad_object_neg, sup_tickets_not_ad_object_neg.request_id.sum()"
   ]
  },
  {
   "cell_type": "code",
   "execution_count": 263,
   "metadata": {},
   "outputs": [
    {
     "data": {
      "text/html": [
       "<div>\n",
       "<style scoped>\n",
       "    .dataframe tbody tr th:only-of-type {\n",
       "        vertical-align: middle;\n",
       "    }\n",
       "\n",
       "    .dataframe tbody tr th {\n",
       "        vertical-align: top;\n",
       "    }\n",
       "\n",
       "    .dataframe thead th {\n",
       "        text-align: right;\n",
       "    }\n",
       "</style>\n",
       "<table border=\"1\" class=\"dataframe\">\n",
       "  <thead>\n",
       "    <tr style=\"text-align: right;\">\n",
       "      <th></th>\n",
       "      <th>result_mentioned_by_user</th>\n",
       "      <th>request_id</th>\n",
       "    </tr>\n",
       "  </thead>\n",
       "  <tbody>\n",
       "    <tr>\n",
       "      <th>0</th>\n",
       "      <td>Без оценки</td>\n",
       "      <td>277108</td>\n",
       "    </tr>\n",
       "    <tr>\n",
       "      <th>1</th>\n",
       "      <td>Не удовлетворительно</td>\n",
       "      <td>24510</td>\n",
       "    </tr>\n",
       "    <tr>\n",
       "      <th>2</th>\n",
       "      <td>Нейтрально</td>\n",
       "      <td>10578</td>\n",
       "    </tr>\n",
       "    <tr>\n",
       "      <th>3</th>\n",
       "      <td>Отлично</td>\n",
       "      <td>59750</td>\n",
       "    </tr>\n",
       "    <tr>\n",
       "      <th>4</th>\n",
       "      <td>Удовлетворительно</td>\n",
       "      <td>7029</td>\n",
       "    </tr>\n",
       "    <tr>\n",
       "      <th>5</th>\n",
       "      <td>Хорошо</td>\n",
       "      <td>18555</td>\n",
       "    </tr>\n",
       "  </tbody>\n",
       "</table>\n",
       "</div>"
      ],
      "text/plain": [
       "  result_mentioned_by_user  request_id\n",
       "0               Без оценки      277108\n",
       "1     Не удовлетворительно       24510\n",
       "2               Нейтрально       10578\n",
       "3                  Отлично       59750\n",
       "4        Удовлетворительно        7029\n",
       "5                   Хорошо       18555"
      ]
     },
     "execution_count": 263,
     "metadata": {},
     "output_type": "execute_result"
    }
   ],
   "source": [
    "# количество обращений\n",
    "sup_tickets_count = sup_tickets.groupby('result_mentioned_by_user').request_id.nunique().reset_index()\n",
    "sup_tickets_count "
   ]
  },
  {
   "cell_type": "code",
   "execution_count": 272,
   "metadata": {},
   "outputs": [
    {
     "data": {
      "image/png": "[encoded data removed]",
      "text/plain": [
       "<Figure size 864x576 with 1 Axes>"
      ]
     },
     "metadata": {},
     "output_type": "display_data"
    }
   ],
   "source": [
    "plt.pie(sup_tickets_count.request_id, labels = sup_tickets_count.result_mentioned_by_user, autopct='%1.0f%%')\n",
    "plt.title('Распределение оценок')\n",
    "plt.show()"
   ]
  },
  {
   "cell_type": "code",
   "execution_count": 277,
   "metadata": {},
   "outputs": [
    {
     "data": {
      "text/plain": [
       "(result_mentioned_by_user\n",
       " Не удовлетворительно    24510\n",
       " Нейтрально              10578\n",
       " Отлично                 59750\n",
       " Удовлетворительно        7029\n",
       " Хорошо                  18555\n",
       " Name: request_id, dtype: int64,\n",
       " 120422)"
      ]
     },
     "execution_count": 277,
     "metadata": {},
     "output_type": "execute_result"
    }
   ],
   "source": [
    "sup_tickets[sup_tickets['result_mentioned_by_user'] != 'Без оценки'].groupby(['result_mentioned_by_user']).request_id.nunique(), sup_tickets[sup_tickets['result_mentioned_by_user'] != 'Без оценки'].groupby(['result_mentioned_by_user']).request_id.nunique().sum()"
   ]
  },
  {
   "cell_type": "code",
   "execution_count": 280,
   "metadata": {},
   "outputs": [
    {
     "data": {
      "text/html": [
       "<div>\n",
       "<style scoped>\n",
       "    .dataframe tbody tr th:only-of-type {\n",
       "        vertical-align: middle;\n",
       "    }\n",
       "\n",
       "    .dataframe tbody tr th {\n",
       "        vertical-align: top;\n",
       "    }\n",
       "\n",
       "    .dataframe thead th {\n",
       "        text-align: right;\n",
       "    }\n",
       "</style>\n",
       "<table border=\"1\" class=\"dataframe\">\n",
       "  <thead>\n",
       "    <tr style=\"text-align: right;\">\n",
       "      <th></th>\n",
       "      <th>index</th>\n",
       "      <th>result_mentioned_by_user</th>\n",
       "    </tr>\n",
       "  </thead>\n",
       "  <tbody>\n",
       "    <tr>\n",
       "      <th>0</th>\n",
       "      <td>Без оценки</td>\n",
       "      <td>0.691311</td>\n",
       "    </tr>\n",
       "    <tr>\n",
       "      <th>1</th>\n",
       "      <td>Отлично</td>\n",
       "      <td>0.151538</td>\n",
       "    </tr>\n",
       "    <tr>\n",
       "      <th>2</th>\n",
       "      <td>Не удовлетворительно</td>\n",
       "      <td>0.064327</td>\n",
       "    </tr>\n",
       "    <tr>\n",
       "      <th>3</th>\n",
       "      <td>Хорошо</td>\n",
       "      <td>0.047270</td>\n",
       "    </tr>\n",
       "    <tr>\n",
       "      <th>4</th>\n",
       "      <td>Нейтрально</td>\n",
       "      <td>0.027190</td>\n",
       "    </tr>\n",
       "    <tr>\n",
       "      <th>5</th>\n",
       "      <td>Удовлетворительно</td>\n",
       "      <td>0.018364</td>\n",
       "    </tr>\n",
       "  </tbody>\n",
       "</table>\n",
       "</div>"
      ],
      "text/plain": [
       "                  index  result_mentioned_by_user\n",
       "0            Без оценки                  0.691311\n",
       "1               Отлично                  0.151538\n",
       "2  Не удовлетворительно                  0.064327\n",
       "3                Хорошо                  0.047270\n",
       "4            Нейтрально                  0.027190\n",
       "5     Удовлетворительно                  0.018364"
      ]
     },
     "execution_count": 280,
     "metadata": {},
     "output_type": "execute_result"
    }
   ],
   "source": [
    "sup_tickets['result_mentioned_by_user'].value_counts(normalize=True).reset_index()"
   ]
  },
  {
   "cell_type": "code",
   "execution_count": 283,
   "metadata": {},
   "outputs": [],
   "source": [
    "#  время ответа по оценкам\n",
    "sup_tick_eva = sup_tickets.merge(sup_evaluation, left_on='request_id', right_on='request_id', how='left')"
   ]
  },
  {
   "cell_type": "code",
   "execution_count": 284,
   "metadata": {},
   "outputs": [],
   "source": [
    "sup_tick_eva['time_answer_hour'] = round(sup_tick_eva['time_answer']/np.timedelta64(1, \"h\"))"
   ]
  },
  {
   "cell_type": "code",
   "execution_count": 285,
   "metadata": {},
   "outputs": [
    {
     "data": {
      "text/html": [
       "<div>\n",
       "<style scoped>\n",
       "    .dataframe tbody tr th:only-of-type {\n",
       "        vertical-align: middle;\n",
       "    }\n",
       "\n",
       "    .dataframe tbody tr th {\n",
       "        vertical-align: top;\n",
       "    }\n",
       "\n",
       "    .dataframe thead th {\n",
       "        text-align: right;\n",
       "    }\n",
       "</style>\n",
       "<table border=\"1\" class=\"dataframe\">\n",
       "  <thead>\n",
       "    <tr style=\"text-align: right;\">\n",
       "      <th></th>\n",
       "      <th>result_mentioned_by_user_x</th>\n",
       "      <th>time_answer_hour</th>\n",
       "    </tr>\n",
       "  </thead>\n",
       "  <tbody>\n",
       "    <tr>\n",
       "      <th>4</th>\n",
       "      <td>Удовлетворительно</td>\n",
       "      <td>47.0</td>\n",
       "    </tr>\n",
       "    <tr>\n",
       "      <th>1</th>\n",
       "      <td>Не удовлетворительно</td>\n",
       "      <td>44.0</td>\n",
       "    </tr>\n",
       "    <tr>\n",
       "      <th>2</th>\n",
       "      <td>Нейтрально</td>\n",
       "      <td>41.0</td>\n",
       "    </tr>\n",
       "    <tr>\n",
       "      <th>5</th>\n",
       "      <td>Хорошо</td>\n",
       "      <td>30.0</td>\n",
       "    </tr>\n",
       "    <tr>\n",
       "      <th>3</th>\n",
       "      <td>Отлично</td>\n",
       "      <td>20.0</td>\n",
       "    </tr>\n",
       "    <tr>\n",
       "      <th>0</th>\n",
       "      <td>Без оценки</td>\n",
       "      <td>15.0</td>\n",
       "    </tr>\n",
       "  </tbody>\n",
       "</table>\n",
       "</div>"
      ],
      "text/plain": [
       "  result_mentioned_by_user_x  time_answer_hour\n",
       "4          Удовлетворительно              47.0\n",
       "1       Не удовлетворительно              44.0\n",
       "2                 Нейтрально              41.0\n",
       "5                     Хорошо              30.0\n",
       "3                    Отлично              20.0\n",
       "0                 Без оценки              15.0"
      ]
     },
     "execution_count": 285,
     "metadata": {},
     "output_type": "execute_result"
    }
   ],
   "source": [
    "tick_eva_median = sup_tick_eva.groupby('result_mentioned_by_user_x')['time_answer_hour'].median(numeric_only=False).reset_index().sort_values(by = 'time_answer_hour', ascending=False)\n",
    "tick_eva_median"
   ]
  },
  {
   "cell_type": "code",
   "execution_count": 287,
   "metadata": {},
   "outputs": [
    {
     "data": {
      "image/png": "[encoded data removed]",
      "text/plain": [
       "<Figure size 864x576 with 1 Axes>"
      ]
     },
     "metadata": {},
     "output_type": "display_data"
    }
   ],
   "source": [
    "colors = ['#e06666', '#e06666', '#e06666', '#6aa84f', '#6aa84f', '#6aa84f']\n",
    "width = 0.75\n",
    "plt.rcParams['font.size'] = '14'\n",
    "#plt.rcParams['font'] = 'Arial'\n",
    "plt.barh(tick_eva_median.result_mentioned_by_user_x, tick_eva_median.time_answer_hour, color=colors)\n",
    "plt.title('Оценки пользователей в зависимости от времени получения ответа', pad=20, color='#595959', font = 'Arial')\n",
    "label = tick_eva_median.time_answer_hour\n",
    "for i, v in enumerate(tick_eva_median.time_answer_hour):\n",
    "    plt.text(v-2.5, i-.05, '{} ч'.format(int(v)), color='#595959', fontweight='bold', font = 'Arial')"
   ]
  },
  {
   "cell_type": "markdown",
   "metadata": {},
   "source": [
    "#### Выводы: "
   ]
  },
  {
   "cell_type": "markdown",
   "metadata": {},
   "source": [
    "Согласно исследуемым данным, сайт теряет часть пользователей после обращения в службу поддержки:  \n",
    "урон составляет примерно\n",
    "20% (3,7 млн. объявлений и  50 тыс. пользователей)  \n",
    "Также более 20% пользователей не удовлетворены результатом обращения в службу поддержки - необходимо сократить время ответа, проанализировать действия пользователей после обращения в службу поддержки.\n"
   ]
  },
  {
   "cell_type": "code",
   "execution_count": null,
   "metadata": {},
   "outputs": [],
   "source": []
  }
 ],
 "metadata": {
  "kernelspec": {
   "display_name": "Python 3",
   "language": "python",
   "name": "python3"
  },
  "language_info": {
   "codemirror_mode": {
    "name": "ipython",
    "version": 3
   },
   "file_extension": ".py",
   "mimetype": "text/x-python",
   "name": "python",
   "nbconvert_exporter": "python",
   "pygments_lexer": "ipython3",
   "version": "3.8.3"
  }
 },
 "nbformat": 4,
 "nbformat_minor": 4
}
